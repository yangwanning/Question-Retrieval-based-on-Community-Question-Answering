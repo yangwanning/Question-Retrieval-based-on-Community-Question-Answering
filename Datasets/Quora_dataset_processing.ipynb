{
 "cells": [
  {
   "cell_type": "code",
   "execution_count": 2,
   "metadata": {},
   "outputs": [],
   "source": [
    "from nltk.tokenize import word_tokenize, sent_tokenize\n",
    "from nltk.tokenize import RegexpTokenizer\n",
    "from nltk.stem import PorterStemmer \n",
    "from nltk.stem.porter import PorterStemmer\n",
    "from nltk.stem import WordNetLemmatizer\n",
    "lemmatizer = WordNetLemmatizer()\n",
    "porter_stemmer = PorterStemmer()\n",
    "ps = PorterStemmer() \n",
    "def tokenization(line):\n",
    "    tokenizer = RegexpTokenizer(r'\\w+')\n",
    "    new_line = tokenizer.tokenize(line)\n",
    "    for count,token in enumerate(new_line):\n",
    "        new_line[count] = lemmatizer.lemmatize(token.lower())        \n",
    "    return ' '.join(new_line)"
   ]
  },
  {
   "cell_type": "markdown",
   "metadata": {},
   "source": [
    "import data"
   ]
  },
  {
   "cell_type": "code",
   "execution_count": 3,
   "metadata": {},
   "outputs": [
    {
     "data": {
      "text/plain": [
       "['id', 'qid1', 'qid2', 'question1', 'question2', 'is_duplicate']"
      ]
     },
     "execution_count": 3,
     "metadata": {},
     "output_type": "execute_result"
    }
   ],
   "source": [
    "path = 'quora_duplicate_questions.tsv'\n",
    "import pandas as pd\n",
    "quora = pd.read_csv(path, sep = '\\t') #.dropna(axis=0)\n",
    "quora.columns.values.tolist()"
   ]
  },
  {
   "cell_type": "code",
   "execution_count": 5,
   "metadata": {},
   "outputs": [
    {
     "data": {
      "text/plain": [
       "(404290, 537933, 537932)"
      ]
     },
     "execution_count": 5,
     "metadata": {},
     "output_type": "execute_result"
    }
   ],
   "source": [
    "len(list(quora.question2.tolist())),quora.qid2.tolist()[404289],quora.qid1.tolist()[404289]"
   ]
  },
  {
   "cell_type": "markdown",
   "metadata": {},
   "source": [
    "It can be found thet there are existing duplicated question for original question"
   ]
  },
  {
   "cell_type": "code",
   "execution_count": 4,
   "metadata": {},
   "outputs": [],
   "source": [
    "dataaa = {}\n",
    "for count,i in enumerate(quora.qid2.tolist()):\n",
    "    dataaa[i] = []"
   ]
  },
  {
   "cell_type": "code",
   "execution_count": 16,
   "metadata": {},
   "outputs": [
    {
     "data": {
      "text/plain": [
       "(299364, 404289)"
      ]
     },
     "execution_count": 16,
     "metadata": {},
     "output_type": "execute_result"
    }
   ],
   "source": [
    "len(list(dataaa.keys())),count"
   ]
  },
  {
   "cell_type": "markdown",
   "metadata": {},
   "source": [
    "select 10,000 for index"
   ]
  },
  {
   "cell_type": "code",
   "execution_count": 31,
   "metadata": {},
   "outputs": [],
   "source": [
    "counter = 0\n",
    "duplicate = []\n",
    "corpus = {}\n",
    "for count,i in enumerate(quora.is_duplicate.tolist()[0:100000]):\n",
    "    corpus[quora.qid1.tolist()[count]] = quora.question1.tolist()[count]\n",
    "    corpus[quora.qid2.tolist()[count]] = quora.question2.tolist()[count]"
   ]
  },
  {
   "cell_type": "code",
   "execution_count": 32,
   "metadata": {},
   "outputs": [
    {
     "data": {
      "text/plain": [
       "165931"
      ]
     },
     "execution_count": 32,
     "metadata": {},
     "output_type": "execute_result"
    }
   ],
   "source": [
    "len(list(corpus.keys()))"
   ]
  },
  {
   "cell_type": "code",
   "execution_count": 6,
   "metadata": {
    "collapsed": true
   },
   "outputs": [
    {
     "ename": "NameError",
     "evalue": "name 'corpus' is not defined",
     "output_type": "error",
     "traceback": [
      "\u001b[1;31m---------------------------------------------------------------------------\u001b[0m",
      "\u001b[1;31mNameError\u001b[0m                                 Traceback (most recent call last)",
      "\u001b[1;32m<ipython-input-6-7aeb5f57cfed>\u001b[0m in \u001b[0;36m<module>\u001b[1;34m\u001b[0m\n\u001b[0;32m      1\u001b[0m \u001b[1;32mimport\u001b[0m \u001b[0mpickle\u001b[0m\u001b[1;33m\u001b[0m\u001b[1;33m\u001b[0m\u001b[0m\n\u001b[1;32m----> 2\u001b[1;33m \u001b[0mpickle\u001b[0m\u001b[1;33m.\u001b[0m\u001b[0mdump\u001b[0m\u001b[1;33m(\u001b[0m\u001b[0mcorpus\u001b[0m\u001b[1;33m,\u001b[0m\u001b[0mopen\u001b[0m\u001b[1;33m(\u001b[0m\u001b[1;34m'corpus.pickle'\u001b[0m\u001b[1;33m,\u001b[0m\u001b[1;34m'wb'\u001b[0m\u001b[1;33m)\u001b[0m\u001b[1;33m)\u001b[0m\u001b[1;33m\u001b[0m\u001b[1;33m\u001b[0m\u001b[0m\n\u001b[0m",
      "\u001b[1;31mNameError\u001b[0m: name 'corpus' is not defined"
     ]
    }
   ],
   "source": [
    "import pickle\n",
    "pickle.dump(corpus,open('corpus.pickle','wb'))"
   ]
  },
  {
   "cell_type": "markdown",
   "metadata": {},
   "source": [
    "Selec top 5000 question pair for experiments: data = {'qid':question}///"
   ]
  },
  {
   "cell_type": "code",
   "execution_count": null,
   "metadata": {},
   "outputs": [],
   "source": [
    "len(quora.qid2.tolist())\n",
    "data_all = {}\n",
    "for count,q in enumerate(quora.qid1.tolist()):\n",
    "    data_all[q] = quora.question1.tolist()[count]"
   ]
  },
  {
   "cell_type": "code",
   "execution_count": null,
   "metadata": {},
   "outputs": [],
   "source": [
    "for count,q in enumerate(quora.qid2.tolist()):\n",
    "    data_all[q] = quora.question2.tolist()[count]"
   ]
  },
  {
   "cell_type": "markdown",
   "metadata": {},
   "source": [
    "Saving top 5000 pair/all pair"
   ]
  },
  {
   "cell_type": "code",
   "execution_count": 20,
   "metadata": {},
   "outputs": [],
   "source": [
    "import pickle\n",
    "data_5000 = data\n",
    "len(list(data_5000.keys()))\n",
    "pickle.dump(data_5000,open('quora_5000',\"wb\"))"
   ]
  },
  {
   "cell_type": "markdown",
   "metadata": {},
   "source": [
    "Loading 5000 pairs"
   ]
  },
  {
   "cell_type": "code",
   "execution_count": 3,
   "metadata": {},
   "outputs": [
    {
     "data": {
      "text/plain": [
       "9859"
      ]
     },
     "execution_count": 3,
     "metadata": {},
     "output_type": "execute_result"
    }
   ],
   "source": [
    "import pickle\n",
    "all_pair = pickle.load(open('quora_5000',\"rb\"))\n",
    "len(list(all_pair.keys()))"
   ]
  },
  {
   "cell_type": "markdown",
   "metadata": {},
   "source": [
    "finding 4000 duplictaed pairs ALL FROM HERE"
   ]
  },
  {
   "cell_type": "code",
   "execution_count": 7,
   "metadata": {},
   "outputs": [
    {
     "ename": "KeyboardInterrupt",
     "evalue": "",
     "output_type": "error",
     "traceback": [
      "\u001b[1;31m---------------------------------------------------------------------------\u001b[0m",
      "\u001b[1;31mKeyboardInterrupt\u001b[0m                         Traceback (most recent call last)",
      "\u001b[1;32m<ipython-input-7-6b12ee01c7aa>\u001b[0m in \u001b[0;36m<module>\u001b[1;34m\u001b[0m\n\u001b[0;32m      6\u001b[0m         \u001b[0mcounter\u001b[0m \u001b[1;33m+=\u001b[0m \u001b[1;36m1\u001b[0m\u001b[1;33m\u001b[0m\u001b[1;33m\u001b[0m\u001b[0m\n\u001b[0;32m      7\u001b[0m         \u001b[0mcorpus_question\u001b[0m\u001b[1;33m[\u001b[0m\u001b[0mquora\u001b[0m\u001b[1;33m.\u001b[0m\u001b[0mqid1\u001b[0m\u001b[1;33m.\u001b[0m\u001b[0mtolist\u001b[0m\u001b[1;33m(\u001b[0m\u001b[1;33m)\u001b[0m\u001b[1;33m[\u001b[0m\u001b[0mcount\u001b[0m\u001b[1;33m]\u001b[0m\u001b[1;33m]\u001b[0m \u001b[1;33m=\u001b[0m \u001b[0mquora\u001b[0m\u001b[1;33m.\u001b[0m\u001b[0mquestion1\u001b[0m\u001b[1;33m.\u001b[0m\u001b[0mtolist\u001b[0m\u001b[1;33m(\u001b[0m\u001b[1;33m)\u001b[0m\u001b[1;33m[\u001b[0m\u001b[0mcount\u001b[0m\u001b[1;33m]\u001b[0m\u001b[1;33m\u001b[0m\u001b[1;33m\u001b[0m\u001b[0m\n\u001b[1;32m----> 8\u001b[1;33m         \u001b[0mcorpus_question\u001b[0m\u001b[1;33m[\u001b[0m\u001b[0mquora\u001b[0m\u001b[1;33m.\u001b[0m\u001b[0mqid2\u001b[0m\u001b[1;33m.\u001b[0m\u001b[0mtolist\u001b[0m\u001b[1;33m(\u001b[0m\u001b[1;33m)\u001b[0m\u001b[1;33m[\u001b[0m\u001b[0mcount\u001b[0m\u001b[1;33m]\u001b[0m\u001b[1;33m]\u001b[0m \u001b[1;33m=\u001b[0m \u001b[0mquora\u001b[0m\u001b[1;33m.\u001b[0m\u001b[0mquestion2\u001b[0m\u001b[1;33m.\u001b[0m\u001b[0mtolist\u001b[0m\u001b[1;33m(\u001b[0m\u001b[1;33m)\u001b[0m\u001b[1;33m[\u001b[0m\u001b[0mcount\u001b[0m\u001b[1;33m]\u001b[0m\u001b[1;33m\u001b[0m\u001b[1;33m\u001b[0m\u001b[0m\n\u001b[0m\u001b[0;32m      9\u001b[0m \u001b[1;31m#         duplicate.append([quora.qid1.tolist()[count],quora.qid2.tolist()[count]])\u001b[0m\u001b[1;33m\u001b[0m\u001b[1;33m\u001b[0m\u001b[1;33m\u001b[0m\u001b[0m\n\u001b[0;32m     10\u001b[0m \u001b[1;33m\u001b[0m\u001b[0m\n",
      "\u001b[1;31mKeyboardInterrupt\u001b[0m: "
     ]
    }
   ],
   "source": [
    "counter = 0\n",
    "duplicate = []\n",
    "corpus_question = {}\n",
    "for count,i in enumerate(quora.is_duplicate.tolist()[0:10760]):\n",
    "    if i == 1:\n",
    "        counter += 1\n",
    "        corpus_question[quora.qid1.tolist()[count]] = quora.question1.tolist()[count]\n",
    "        corpus_question[quora.qid2.tolist()[count]] = quora.question2.tolist()[count]\n",
    "#         duplicate.append([quora.qid1.tolist()[count],quora.qid2.tolist()[count]])\n",
    "        "
   ]
  },
  {
   "cell_type": "code",
   "execution_count": 54,
   "metadata": {},
   "outputs": [
    {
     "data": {
      "text/plain": [
       "(4000, 10759)"
      ]
     },
     "execution_count": 54,
     "metadata": {},
     "output_type": "execute_result"
    }
   ],
   "source": [
    "counter,count"
   ]
  },
  {
   "cell_type": "code",
   "execution_count": 4,
   "metadata": {},
   "outputs": [],
   "source": [
    "import pickle\n",
    "# pickle.dump(corpus_question,open('corpus_question',\"wb\"))\n",
    "corpus_question = pickle.load(open('corpus_question',\"rb\"))"
   ]
  },
  {
   "cell_type": "code",
   "execution_count": 3,
   "metadata": {
    "collapsed": true
   },
   "outputs": [
    {
     "ename": "NameError",
     "evalue": "name 'duplicate' is not defined",
     "output_type": "error",
     "traceback": [
      "\u001b[1;31m---------------------------------------------------------------------------\u001b[0m",
      "\u001b[1;31mNameError\u001b[0m                                 Traceback (most recent call last)",
      "\u001b[1;32m<ipython-input-3-9da20ea731a1>\u001b[0m in \u001b[0;36m<module>\u001b[1;34m\u001b[0m\n\u001b[0;32m      1\u001b[0m \u001b[1;32mimport\u001b[0m \u001b[0mpickle\u001b[0m\u001b[1;33m\u001b[0m\u001b[1;33m\u001b[0m\u001b[0m\n\u001b[1;32m----> 2\u001b[1;33m \u001b[0mpickle\u001b[0m\u001b[1;33m.\u001b[0m\u001b[0mdump\u001b[0m\u001b[1;33m(\u001b[0m\u001b[0mduplicate\u001b[0m\u001b[1;33m,\u001b[0m\u001b[0mopen\u001b[0m\u001b[1;33m(\u001b[0m\u001b[1;34m'4000_duplicate_pair'\u001b[0m\u001b[1;33m,\u001b[0m\u001b[1;34m\"wb\"\u001b[0m\u001b[1;33m)\u001b[0m\u001b[1;33m)\u001b[0m\u001b[1;33m\u001b[0m\u001b[1;33m\u001b[0m\u001b[0m\n\u001b[0m",
      "\u001b[1;31mNameError\u001b[0m: name 'duplicate' is not defined"
     ]
    }
   ],
   "source": [
    "import pickle\n",
    "pickle.dump(duplicate,open('4000_duplicate_pair',\"wb\"))"
   ]
  },
  {
   "cell_type": "markdown",
   "metadata": {},
   "source": [
    "Collect question: selected_pair:{'qid1':qid2}"
   ]
  },
  {
   "cell_type": "code",
   "execution_count": 5,
   "metadata": {},
   "outputs": [
    {
     "data": {
      "text/plain": [
       "list"
      ]
     },
     "execution_count": 5,
     "metadata": {},
     "output_type": "execute_result"
    }
   ],
   "source": [
    "import pickle\n",
    "duplicate = pickle.load(open('4000_duplicate_pair',\"rb\"))\n",
    "# count = 0\n",
    "# selected_pair = {}\n",
    "# for i in duplicate:\n",
    "#     selected_pair[i[0]] = i[1]\n",
    "# print(len(list(selected_pair.keys())))\n",
    "# selected_pair[15]\n",
    "type(duplicate)"
   ]
  },
  {
   "cell_type": "markdown",
   "metadata": {},
   "source": [
    "Delete repeated qid1"
   ]
  },
  {
   "cell_type": "code",
   "execution_count": 6,
   "metadata": {},
   "outputs": [
    {
     "data": {
      "text/plain": [
       "4000"
      ]
     },
     "execution_count": 6,
     "metadata": {},
     "output_type": "execute_result"
    }
   ],
   "source": [
    "selected_1 = []\n",
    "selected_2 = []\n",
    "for i in duplicate:\n",
    "    selected_1.append(i[0])\n",
    "    selected_2.append(i[1])\n",
    "len(selected_1)"
   ]
  },
  {
   "cell_type": "code",
   "execution_count": 7,
   "metadata": {},
   "outputs": [
    {
     "data": {
      "text/plain": [
       "(310, 3690)"
      ]
     },
     "execution_count": 7,
     "metadata": {},
     "output_type": "execute_result"
    }
   ],
   "source": [
    "from collections import Counter\n",
    "final_selected_pair = {}\n",
    "repeated=[]\n",
    "for count,i in enumerate(selected_1):\n",
    "    if Counter(selected_1)[i]!=1:\n",
    "#         print(i)\n",
    "        repeated.append(i)\n",
    "    else:\n",
    "        final_selected_pair[i]=selected_2[count]\n",
    "pickle.dump(final_selected_pair,open('final_selected_pair','wb'))\n",
    "len(repeated),len(list(final_selected_pair.keys()))"
   ]
  },
  {
   "cell_type": "code",
   "execution_count": 8,
   "metadata": {},
   "outputs": [
    {
     "data": {
      "text/plain": [
       "(3690, dict)"
      ]
     },
     "execution_count": 8,
     "metadata": {},
     "output_type": "execute_result"
    }
   ],
   "source": [
    "len(list(final_selected_pair)),type(final_selected_pair)"
   ]
  },
  {
   "cell_type": "markdown",
   "metadata": {},
   "source": [
    "final corpus question"
   ]
  },
  {
   "cell_type": "code",
   "execution_count": 9,
   "metadata": {},
   "outputs": [
    {
     "data": {
      "text/plain": [
       "(7152, 7526)"
      ]
     },
     "execution_count": 9,
     "metadata": {},
     "output_type": "execute_result"
    }
   ],
   "source": [
    "import pickle\n",
    "final_corpus_question = {}\n",
    "for key,item in final_selected_pair.items():\n",
    "    final_corpus_question[key]=corpus_question[key]\n",
    "    final_corpus_question[item]=corpus_question[item]\n",
    "len(list(final_corpus_question)),len(list(corpus_question))"
   ]
  },
  {
   "cell_type": "markdown",
   "metadata": {},
   "source": [
    "Preprocessing question: lowercase and stem"
   ]
  },
  {
   "cell_type": "markdown",
   "metadata": {},
   "source": [
    "prepare for index: "
   ]
  },
  {
   "cell_type": "code",
   "execution_count": 37,
   "metadata": {},
   "outputs": [],
   "source": [
    "fw = open('corpus','w',encoding='utf-8') \n",
    "for key,item in corpus.items():\n",
    "    fw.write('<DOC>' + '\\n')\n",
    "    fw.write('<DOCNO>' + str(key) + '</DOCNO>'+ '\\n')\n",
    "    fw.write('<TEXT>' + '\\n')\n",
    "    fw.write(tokenization(item))\n",
    "    fw.write('</TEXT>' + '\\n')\n",
    "    fw.write('</DOC>' + '\\n')\n",
    "    "
   ]
  },
  {
   "cell_type": "markdown",
   "metadata": {},
   "source": [
    "Generate Topic file. Using slected_pair[i][0]"
   ]
  },
  {
   "cell_type": "code",
   "execution_count": 224,
   "metadata": {},
   "outputs": [],
   "source": [
    "fw = open('_'.join(('final','initial','topic')),'w',encoding='utf-8')\n",
    "fw.write('<parameters>' + '\\n')\n",
    "fw.write('<index>' + '/ssd2/wanning/Indri/index/Quora_index' +'</index>'+ '\\n')\n",
    "fw.write('<count>11</count>' + '\\n')\n",
    "fw.write('<trecFormat>true</trecFormat>' + '\\n')\n",
    "for key,item in final_selected_pair.items():\n",
    "    fw.write('<query>' + '\\n')\n",
    "    fw.write('<number>' + ' '+ str(key) + '</number>' + '\\n')\n",
    "    fw.write('<text>' + tokenization(final_corpus_question[key]) + '</text>' + '\\n')\n",
    "    fw.write('</query>'+ '\\n')\n",
    "fw.write('</parameters>')\n",
    "fw.close()"
   ]
  },
  {
   "cell_type": "markdown",
   "metadata": {},
   "source": [
    "split train/test/dev according to QID: 3038/400/400"
   ]
  },
  {
   "cell_type": "code",
   "execution_count": 8,
   "metadata": {},
   "outputs": [],
   "source": [
    "import pickle\n",
    "final_selected_pair = pickle.load(open('final_selected_pair','rb'))\n",
    "train_id = list(final_selected_pair.keys())[0:3090]\n",
    "dev_id = list(final_selected_pair.keys())[3090:3390]\n",
    "test_id = list(final_selected_pair.keys())[3390:3690]\n",
    "len(train_id)+len(dev_id)+len(test_id),len(train_id),len(dev_id),len(test_id)\n",
    "pickle.dump(test_id,open('test_id','wb'))"
   ]
  },
  {
   "cell_type": "markdown",
   "metadata": {},
   "source": [
    "Generate train/test/dev dataset by reading the initial runfile(to find corresponding negative sample)\n",
    "Construct dataset"
   ]
  },
  {
   "cell_type": "code",
   "execution_count": 47,
   "metadata": {},
   "outputs": [],
   "source": [
    "data = []\n",
    "qid_rel = {}\n",
    "with open('final_initial_run','r') as f:\n",
    "    for count,line in enumerate(f):\n",
    "        data.append(line)\n",
    "        if count%11 == 0:\n",
    "            qid_rel[line.strip().split(' ')[0]] = {}\n",
    "            ### no qid itself ###\n",
    "        qid_rel[line.strip().split(' ')[0]][str(final_selected_pair[int(line.strip().split(' ')[0])])] = 1\n",
    "        if line.strip().split(' ')[0] != line.strip().split(' ')[2]:\n",
    "                ### no positive qid ####\n",
    "            if int(line.strip().split(' ')[2]) != final_selected_pair[int(line.strip().split(' ')[0])]:\n",
    "                qid_rel[line.strip().split(' ')[0]][line.strip().split(' ')[2]] = 0\n",
    "           "
   ]
  },
  {
   "cell_type": "code",
   "execution_count": 10,
   "metadata": {
    "collapsed": true
   },
   "outputs": [
    {
     "ename": "NameError",
     "evalue": "name 'qid_rel' is not defined",
     "output_type": "error",
     "traceback": [
      "\u001b[1;31m---------------------------------------------------------------------------\u001b[0m",
      "\u001b[1;31mNameError\u001b[0m                                 Traceback (most recent call last)",
      "\u001b[1;32m<ipython-input-10-2e0362cfc89d>\u001b[0m in \u001b[0;36m<module>\u001b[1;34m\u001b[0m\n\u001b[0;32m      1\u001b[0m \u001b[1;31m# len(list(qid_rel.keys())),qid_rel\u001b[0m\u001b[1;33m\u001b[0m\u001b[1;33m\u001b[0m\u001b[1;33m\u001b[0m\u001b[0m\n\u001b[0;32m      2\u001b[0m \u001b[1;32mimport\u001b[0m \u001b[0mpickle\u001b[0m\u001b[1;33m\u001b[0m\u001b[1;33m\u001b[0m\u001b[0m\n\u001b[1;32m----> 3\u001b[1;33m \u001b[0mpickle\u001b[0m\u001b[1;33m.\u001b[0m\u001b[0mdump\u001b[0m\u001b[1;33m(\u001b[0m\u001b[0mqid_rel\u001b[0m\u001b[1;33m,\u001b[0m\u001b[0mopen\u001b[0m\u001b[1;33m(\u001b[0m\u001b[1;34m'qid_rel'\u001b[0m\u001b[1;33m,\u001b[0m\u001b[1;34m'wb'\u001b[0m\u001b[1;33m)\u001b[0m\u001b[1;33m)\u001b[0m\u001b[1;33m\u001b[0m\u001b[1;33m\u001b[0m\u001b[0m\n\u001b[0m",
      "\u001b[1;31mNameError\u001b[0m: name 'qid_rel' is not defined"
     ]
    }
   ],
   "source": [
    "# len(list(qid_rel.keys())),qid_rel\n",
    "import pickle\n",
    "pickle.dump(qid_rel,open('qid_rel','wb'))"
   ]
  },
  {
   "cell_type": "markdown",
   "metadata": {},
   "source": [
    "build train/dev/test topic file"
   ]
  },
  {
   "cell_type": "code",
   "execution_count": 11,
   "metadata": {
    "collapsed": true
   },
   "outputs": [
    {
     "ename": "NameError",
     "evalue": "name 'final_corpus_question' is not defined",
     "output_type": "error",
     "traceback": [
      "\u001b[1;31m---------------------------------------------------------------------------\u001b[0m",
      "\u001b[1;31mNameError\u001b[0m                                 Traceback (most recent call last)",
      "\u001b[1;32m<ipython-input-11-2ef2259a326f>\u001b[0m in \u001b[0;36m<module>\u001b[1;34m\u001b[0m\n\u001b[0;32m     10\u001b[0m     \u001b[0mfw\u001b[0m\u001b[1;33m.\u001b[0m\u001b[0mwrite\u001b[0m\u001b[1;33m(\u001b[0m\u001b[1;34m'<query>'\u001b[0m \u001b[1;33m+\u001b[0m \u001b[1;34m'\\n'\u001b[0m\u001b[1;33m)\u001b[0m\u001b[1;33m\u001b[0m\u001b[1;33m\u001b[0m\u001b[0m\n\u001b[0;32m     11\u001b[0m     \u001b[0mfw\u001b[0m\u001b[1;33m.\u001b[0m\u001b[0mwrite\u001b[0m\u001b[1;33m(\u001b[0m\u001b[1;34m'<number>'\u001b[0m \u001b[1;33m+\u001b[0m \u001b[0mstr\u001b[0m\u001b[1;33m(\u001b[0m\u001b[0mi\u001b[0m\u001b[1;33m)\u001b[0m \u001b[1;33m+\u001b[0m \u001b[1;34m'</number>'\u001b[0m \u001b[1;33m+\u001b[0m \u001b[1;34m'\\n'\u001b[0m\u001b[1;33m)\u001b[0m\u001b[1;33m\u001b[0m\u001b[1;33m\u001b[0m\u001b[0m\n\u001b[1;32m---> 12\u001b[1;33m     \u001b[0mfw\u001b[0m\u001b[1;33m.\u001b[0m\u001b[0mwrite\u001b[0m\u001b[1;33m(\u001b[0m\u001b[1;34m'<text>'\u001b[0m \u001b[1;33m+\u001b[0m \u001b[0mtokenization\u001b[0m\u001b[1;33m(\u001b[0m\u001b[0mfinal_corpus_question\u001b[0m\u001b[1;33m[\u001b[0m\u001b[0mi\u001b[0m\u001b[1;33m]\u001b[0m\u001b[1;33m)\u001b[0m \u001b[1;33m+\u001b[0m \u001b[1;34m'</text>'\u001b[0m \u001b[1;33m+\u001b[0m \u001b[1;34m'\\n'\u001b[0m\u001b[1;33m)\u001b[0m\u001b[1;33m\u001b[0m\u001b[1;33m\u001b[0m\u001b[0m\n\u001b[0m\u001b[0;32m     13\u001b[0m     \u001b[1;32mfor\u001b[0m \u001b[0mj\u001b[0m \u001b[1;32min\u001b[0m \u001b[0mqid_rel\u001b[0m\u001b[1;33m[\u001b[0m\u001b[0mstr\u001b[0m\u001b[1;33m(\u001b[0m\u001b[0mi\u001b[0m\u001b[1;33m)\u001b[0m\u001b[1;33m]\u001b[0m\u001b[1;33m.\u001b[0m\u001b[0mkeys\u001b[0m\u001b[1;33m(\u001b[0m\u001b[1;33m)\u001b[0m\u001b[1;33m:\u001b[0m\u001b[1;33m\u001b[0m\u001b[1;33m\u001b[0m\u001b[0m\n\u001b[0;32m     14\u001b[0m         \u001b[0mfw\u001b[0m\u001b[1;33m.\u001b[0m\u001b[0mwrite\u001b[0m\u001b[1;33m(\u001b[0m\u001b[1;34m'<workingSetDocno>'\u001b[0m \u001b[1;33m+\u001b[0m \u001b[0mj\u001b[0m \u001b[1;33m+\u001b[0m \u001b[1;34m'</workingSetDocno>'\u001b[0m\u001b[1;33m+\u001b[0m\u001b[1;34m'\\n'\u001b[0m\u001b[1;33m)\u001b[0m\u001b[1;33m\u001b[0m\u001b[1;33m\u001b[0m\u001b[0m\n",
      "\u001b[1;31mNameError\u001b[0m: name 'final_corpus_question' is not defined"
     ]
    }
   ],
   "source": [
    "# qid = dev_id + train_id\n",
    "# name = 'train_dev'\n",
    "qid = train_id + dev_id\n",
    "name = 'train_dev'\n",
    "fw = open('_'.join((name,'topic')),'w',encoding='utf-8')\n",
    "fw.write('<parameters>' + '\\n')\n",
    "fw.write('<index>' + '/ssd2/wanning/Indri/index/Quora_index' +'</index>'+ '\\n')\n",
    "fw.write('<trecFormat>true</trecFormat>' + '\\n')\n",
    "for i in qid:\n",
    "    fw.write('<query>' + '\\n')\n",
    "    fw.write('<number>' + str(i) + '</number>' + '\\n')\n",
    "    fw.write('<text>' + tokenization(final_corpus_question[i]) + '</text>' + '\\n')\n",
    "    for j in qid_rel[str(i)].keys():\n",
    "        fw.write('<workingSetDocno>' + j + '</workingSetDocno>'+'\\n')\n",
    "    fw.write('</query>'+ '\\n')\n",
    "fw.write('</parameters>')\n",
    "fw.close()"
   ]
  },
  {
   "cell_type": "markdown",
   "metadata": {},
   "source": [
    "Build Qrels file"
   ]
  },
  {
   "cell_type": "code",
   "execution_count": 252,
   "metadata": {},
   "outputs": [],
   "source": [
    "fw = open('_'.join(('quora','qrels')),'w',encoding='utf-8')\n",
    "for qid in [train_id,test_id,dev_id]:\n",
    "    for i in qid:\n",
    "        for j in qid_rel[str(i)].keys():\n",
    "            fw.write(str(i) + ' ' + '0' + ' ' + j + ' ' + str(qid_rel[str(i)][j]) + '\\n')\n",
    "fw.close()"
   ]
  },
  {
   "cell_type": "markdown",
   "metadata": {},
   "source": [
    "Dataset Analysis: query length"
   ]
  },
  {
   "cell_type": "code",
   "execution_count": 12,
   "metadata": {},
   "outputs": [],
   "source": [
    "from nltk.tokenize import RegexpTokenizer\n",
    "def text_length(x):\n",
    "    tokenizer = RegexpTokenizer(r'\\w+')\n",
    "    if x is None:\n",
    "        return 0\n",
    "    return len(tokenizer.tokenize(x))"
   ]
  },
  {
   "cell_type": "markdown",
   "metadata": {},
   "source": [
    "Length of test set"
   ]
  },
  {
   "cell_type": "code",
   "execution_count": 15,
   "metadata": {},
   "outputs": [
    {
     "name": "stdout",
     "output_type": "stream",
     "text": [
      "average length is:10.146666666666667, st is:4.344171062725572\n",
      "max length is:33, min length is:3\n"
     ]
    }
   ],
   "source": [
    "import numpy as np\n",
    "length = []\n",
    "for item in test_id:\n",
    "    length.append(text_length(final_corpus_question[item]))\n",
    "print('average length is:{0}, st is:{1}'.format(np.mean(length),np.std(length)))\n",
    "print('max length is:{0}, min length is:{1}'.format(max(length),min(length)))"
   ]
  },
  {
   "cell_type": "code",
   "execution_count": 17,
   "metadata": {},
   "outputs": [
    {
     "data": {
      "image/png": "[encoded data removed]",
      "text/plain": [
       "<Figure size 432x288 with 1 Axes>"
      ]
     },
     "metadata": {},
     "output_type": "display_data"
    }
   ],
   "source": [
    "import numpy as np\n",
    "import pandas as pd\n",
    "from scipy import stats, integrate\n",
    "import matplotlib.pyplot as plt\n",
    "import seaborn as sns\n",
    "sns.set(color_codes=True)\n",
    "sns.distplot(length,bins=[x for x in range(35)],axlabel='Query length (number of tokens)',kde=False)\n",
    "plt.title('Quora')\n",
    "# plt.xlabel('Delay (min)')\n",
    "plt.ylabel('Number of queries')\n",
    "plt.savefig(\"query_length_quora.png\")"
   ]
  },
  {
   "cell_type": "markdown",
   "metadata": {},
   "source": [
    "set number of length bin for query question. FOR TESTSET"
   ]
  },
  {
   "cell_type": "code",
   "execution_count": 22,
   "metadata": {},
   "outputs": [],
   "source": [
    "import pickle\n",
    "length_bin = {}\n",
    "counter = 0\n",
    "for i in range(5):\n",
    "    length_bin[i+1] = []\n",
    "for i in test_id:\n",
    "#     print(text_length(final_corpus_question[i]))\n",
    "    if text_length(final_corpus_question[i]) <= 5:\n",
    "        length_bin[1].append(i)\n",
    "        counter += 1\n",
    "    if text_length(final_corpus_question[i]) > 5 and text_length(final_corpus_question[i]) <= 10:\n",
    "        length_bin[2].append(i)\n",
    "        counter += 1\n",
    "    if text_length(final_corpus_question[i]) > 10 and text_length(final_corpus_question[i]) <= 15:\n",
    "        length_bin[3].append(i)\n",
    "        counter += 1\n",
    "    if text_length(final_corpus_question[i]) > 15 and text_length(final_corpus_question[i]) <= 20:\n",
    "        length_bin[4].append(i)\n",
    "        counter +=1 \n",
    "    if text_length(final_corpus_question[i]) > 20:\n",
    "        length_bin[5].append(i)\n",
    "        counter += 1\n",
    "\n",
    "pickle.dump(length_bin,open('length_bin',\"wb\"))"
   ]
  },
  {
   "cell_type": "code",
   "execution_count": 27,
   "metadata": {},
   "outputs": [
    {
     "data": {
      "text/plain": [
       "(294, 6)"
      ]
     },
     "execution_count": 27,
     "metadata": {},
     "output_type": "execute_result"
    }
   ],
   "source": [
    "len(length_bin[1]) + len(length_bin[2]) +len(length_bin[3]) + len(length_bin[4]),len(length_bin[5])"
   ]
  },
  {
   "cell_type": "code",
   "execution_count": 30,
   "metadata": {},
   "outputs": [
    {
     "data": {
      "text/plain": [
       "0.98"
      ]
     },
     "execution_count": 30,
     "metadata": {},
     "output_type": "execute_result"
    }
   ],
   "source": [
    "294/300"
   ]
  },
  {
   "cell_type": "code",
   "execution_count": 309,
   "metadata": {},
   "outputs": [],
   "source": [
    "import pickle\n",
    "pickle.dump(final_corpus_question,open('final_corpus_question','wb'))"
   ]
  },
  {
   "cell_type": "code",
   "execution_count": 29,
   "metadata": {},
   "outputs": [],
   "source": [
    "import pickle\n",
    "length_bin_new = {}\n",
    "counter = 0\n",
    "for i in range(9):\n",
    "    length_bin[i+1] = []\n",
    "for i in test_id:\n",
    "#     print(text_length(final_corpus_question[i]))\n",
    "    if text_length(final_corpus_question[i]) <= 5:\n",
    "        length_bin[1].append(i)\n",
    "        counter += 1\n",
    "    if text_length(final_corpus_question[i]) > 5 and text_length(final_corpus_question[i]) <= 8:\n",
    "        length_bin[2].append(i)\n",
    "        counter += 1\n",
    "    if text_length(final_corpus_question[i]) > 8 and text_length(final_corpus_question[i]) <= 10:\n",
    "        length_bin[3].append(i)\n",
    "        counter += 1\n",
    "    if text_length(final_corpus_question[i]) > 10 and text_length(final_corpus_question[i]) <= 12:\n",
    "        length_bin[4].append(i)\n",
    "        counter +=1 \n",
    "        \n",
    "    if text_length(final_corpus_question[i]) > 12 and text_length(final_corpus_question[i]) <= 14:\n",
    "        length_bin[5].append(i)\n",
    "        counter +=1 \n",
    "    if text_length(final_corpus_question[i]) > 14 and text_length(final_corpus_question[i]) <= 16:\n",
    "        length_bin[6].append(i)\n",
    "        counter +=1 \n",
    "        \n",
    "    if text_length(final_corpus_question[i]) > 16 and text_length(final_corpus_question[i]) <= 18:\n",
    "        length_bin[7].append(i)\n",
    "        counter +=1 \n",
    "    if text_length(final_corpus_question[i]) > 18 and text_length(final_corpus_question[i]) <= 20:\n",
    "        length_bin[8].append(i)\n",
    "        counter +=1 \n",
    "    if text_length(final_corpus_question[i]) > 20:\n",
    "        length_bin[9].append(i)\n",
    "        counter += 1\n",
    "\n",
    "pickle.dump(length_bin,open('length_bin_new',\"wb\"))"
   ]
  },
  {
   "cell_type": "markdown",
   "metadata": {},
   "source": [
    "input: output.trecrun; output: standard runfile"
   ]
  },
  {
   "cell_type": "code",
   "execution_count": 14,
   "metadata": {},
   "outputs": [],
   "source": [
    "import pickle\n",
    "final_corpus_question = pickle.load(open('final_corpus_question','rb'))\n",
    "qid_rel = pickle.load(open('qid_rel','rb'))"
   ]
  },
  {
   "cell_type": "markdown",
   "metadata": {},
   "source": [
    "Prepare for matchzoo"
   ]
  },
  {
   "cell_type": "code",
   "execution_count": 101,
   "metadata": {},
   "outputs": [],
   "source": [
    "def matchzoo(dataset,file_name):\n",
    "    data = []\n",
    "    headers = ['id_left','text_left','id_right','text_right','label']\n",
    "    for count,item in enumerate(dataset):\n",
    "        for key,itemm in qid_rel[str(item)].items():\n",
    "            data_now = {}\n",
    "            data_now['label'] = str(itemm)\n",
    "            data_now['id_left'] = ''.join(('Q',str(item)))\n",
    "            data_now['text_left'] = tokenization(final_corpus_question[int(item)])\n",
    "            data_now['id_right'] = str(key)\n",
    "            data_now['text_right'] = tokenization(final_corpus_question[int(key)])\n",
    "            data.append(data_now)\n",
    "#     print(data)\n",
    "    with open(file_name,'w',encoding='utf-8') as f:\n",
    "        f_csv = csv.DictWriter(f, headers)\n",
    "        f_csv.writeheader()\n",
    "        f_csv.writerows(data)"
   ]
  },
  {
   "cell_type": "code",
   "execution_count": 102,
   "metadata": {},
   "outputs": [],
   "source": [
    "import csv\n",
    "split = ['train','test','dev']\n",
    "quora =[train_id,test_id,dev_id]\n",
    "for count,item in enumerate(quora):\n",
    "    file_name = '.'.join((split[count],'csv'))\n",
    "#     print(type(item))\n",
    "#     print(item.RELQ_RELEVANCE2ORGQ.tolist())\n",
    "    matchzoo(item,file_name)"
   ]
  },
  {
   "cell_type": "code",
   "execution_count": 104,
   "metadata": {},
   "outputs": [],
   "source": [
    "data = pd.read_csv('test.csv', sep=',')\n",
    "qid = data.id_left.tolist()"
   ]
  },
  {
   "cell_type": "code",
   "execution_count": null,
   "metadata": {},
   "outputs": [],
   "source": []
  }
 ],
 "metadata": {
  "kernelspec": {
   "display_name": "Python 3",
   "language": "python",
   "name": "python3"
  },
  "language_info": {
   "codemirror_mode": {
    "name": "ipython",
    "version": 3
   },
   "file_extension": ".py",
   "mimetype": "text/x-python",
   "name": "python",
   "nbconvert_exporter": "python",
   "pygments_lexer": "ipython3",
   "version": "3.6.8"
  }
 },
 "nbformat": 4,
 "nbformat_minor": 2
}
