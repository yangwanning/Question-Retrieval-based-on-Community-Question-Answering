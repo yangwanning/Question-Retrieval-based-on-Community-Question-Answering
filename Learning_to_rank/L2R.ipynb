{
 "cells": [
  {
   "cell_type": "markdown",
   "metadata": {},
   "source": [
    "Generate right format of parameter file for FAQ"
   ]
  },
  {
   "cell_type": "code",
   "execution_count": 26,
   "metadata": {},
   "outputs": [
    {
     "name": "stdout",
     "output_type": "stream",
     "text": [
      "faq_param\\dev.txt\n",
      "faq_param\\test.txt\n",
      "faq_param\\train.txt\n"
     ]
    }
   ],
   "source": [
    "import os\n",
    "path = 'faq_param'\n",
    "files = os.listdir(path)\n",
    "for file in files:\n",
    "    print(os.path.join(path,file))\n",
    "    fw = open('_'.join(('param',file)),'w',encoding='utf-8')\n",
    "    with open(os.path.join(path,file),'r',encoding='utf-8') as f:\n",
    "        for line in f:\n",
    "            if len(line) > 1:            \n",
    "                if line[1] == 'n':\n",
    "                    line = ''.join((line.strip(' ').split(' ')))\n",
    "                fw.write(line)\n",
    "                    "
   ]
  },
  {
   "cell_type": "code",
   "execution_count": 24,
   "metadata": {},
   "outputs": [
    {
     "name": "stdout",
     "output_type": "stream",
     "text": [
      "<number>Q268</number>\n",
      "\n",
      "<number>Q269</number>\n",
      "\n",
      "<number>Q270</number>\n",
      "\n",
      "<number>Q271</number>\n",
      "\n",
      "<number>Q272</number>\n",
      "\n",
      "<number>Q273</number>\n",
      "\n",
      "<number>Q274</number>\n",
      "\n",
      "<number>Q275</number>\n",
      "\n",
      "<number>Q276</number>\n",
      "\n",
      "<number>Q277</number>\n",
      "\n",
      "<number>Q278</number>\n",
      "\n",
      "<number>Q279</number>\n",
      "\n",
      "<number>Q280</number>\n",
      "\n",
      "<number>Q281</number>\n",
      "\n",
      "<number>Q282</number>\n",
      "\n",
      "<number>Q283</number>\n",
      "\n",
      "<number>Q284</number>\n",
      "\n",
      "<number>Q285</number>\n",
      "\n",
      "<number>Q286</number>\n",
      "\n",
      "<number>Q287</number>\n",
      "\n",
      "<number>Q288</number>\n",
      "\n",
      "<number>Q289</number>\n",
      "\n",
      "<number>Q290</number>\n",
      "\n",
      "<number>Q291</number>\n",
      "\n",
      "<number>Q292</number>\n",
      "\n",
      "<number>Q293</number>\n",
      "\n",
      "<number>Q294</number>\n",
      "\n",
      "<number>Q295</number>\n",
      "\n",
      "<number>Q296</number>\n",
      "\n",
      "<number>Q297</number>\n",
      "\n",
      "<number>Q298</number>\n",
      "\n",
      "<number>Q299</number>\n",
      "\n",
      "<number>Q300</number>\n",
      "\n",
      "<number>Q301</number>\n",
      "\n",
      "<number>Q302</number>\n",
      "\n",
      "<number>Q303</number>\n",
      "\n",
      "<number>Q304</number>\n",
      "\n",
      "<number>Q305</number>\n",
      "\n",
      "<number>Q306</number>\n",
      "\n",
      "<number>Q307</number>\n",
      "\n",
      "<number>Q308</number>\n",
      "\n",
      "<number>Q309</number>\n",
      "\n",
      "<number>Q310</number>\n",
      "\n",
      "<number>Q311</number>\n",
      "\n",
      "<number>Q312</number>\n",
      "\n",
      "<number>Q313</number>\n",
      "\n",
      "<number>Q314</number>\n",
      "\n",
      "<number>Q315</number>\n",
      "\n",
      "<number>Q316</number>\n",
      "\n",
      "<number>Q317</number>\n",
      "\n"
     ]
    }
   ],
   "source": [
    "with open('faq_param\\dev.txt','r',encoding='utf-8') as f:\n",
    "    for line in f:\n",
    "        if len(line) > 1:\n",
    "            if line[1] == 'n':\n",
    "#                 print(line.strip(' ').split(' '))\n",
    "                line = ''.join((line.strip(' ').split(' ')))\n",
    "                print(line)\n",
    "        "
   ]
  },
  {
   "cell_type": "code",
   "execution_count": 40,
   "metadata": {},
   "outputs": [
    {
     "name": "stdout",
     "output_type": "stream",
     "text": [
      "['MAP on test data: 0']\n",
      "[]\n"
     ]
    }
   ],
   "source": [
    "import re\n",
    "a = 'MAP on test data: 0.3,adcnjkda'\n",
    "print(re.findall(r'MAP\\son\\stest\\sdata\\D\\s\\d+', a))\n",
    "print(re.findall(r'MAP\\s + all.', a))"
   ]
  },
  {
   "cell_type": "code",
   "execution_count": 10,
   "metadata": {},
   "outputs": [
    {
     "data": {
      "text/plain": [
       "[0, 1, 2, 3, 4, 5, 6, 7, 8]"
      ]
     },
     "execution_count": 10,
     "metadata": {},
     "output_type": "execute_result"
    }
   ],
   "source": [
    "a"
   ]
  },
  {
   "cell_type": "code",
   "execution_count": 11,
   "metadata": {},
   "outputs": [
    {
     "name": "stdout",
     "output_type": "stream",
     "text": [
      "0\n",
      "1\n",
      "2\n",
      "3\n",
      "4\n",
      "5\n",
      "6\n",
      "7\n",
      "8\n"
     ]
    }
   ],
   "source": [
    "for i in range(9):\n",
    "    print(i)"
   ]
  },
  {
   "cell_type": "code",
   "execution_count": null,
   "metadata": {},
   "outputs": [],
   "source": []
  }
 ],
 "metadata": {
  "kernelspec": {
   "display_name": "Python 3",
   "language": "python",
   "name": "python3"
  },
  "language_info": {
   "codemirror_mode": {
    "name": "ipython",
    "version": 3
   },
   "file_extension": ".py",
   "mimetype": "text/x-python",
   "name": "python",
   "nbconvert_exporter": "python",
   "pygments_lexer": "ipython3",
   "version": "3.6.8"
  }
 },
 "nbformat": 4,
 "nbformat_minor": 2
}
